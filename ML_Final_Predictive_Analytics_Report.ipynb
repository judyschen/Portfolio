{
  "nbformat": 4,
  "nbformat_minor": 0,
  "metadata": {
    "colab": {
      "provenance": [],
      "authorship_tag": "ABX9TyOn0Lf7cj/EFjtLyAuDHAm0",
      "include_colab_link": true
    },
    "kernelspec": {
      "name": "python3",
      "display_name": "Python 3"
    },
    "language_info": {
      "name": "python"
    }
  },
  "cells": [
    {
      "cell_type": "markdown",
      "metadata": {
        "id": "view-in-github",
        "colab_type": "text"
      },
      "source": [
        "<a href=\"https://colab.research.google.com/github/judyschen/Profolio/blob/main/ML_Final_Predictive_Analytics_Report.ipynb\" target=\"_parent\"><img src=\"https://colab.research.google.com/assets/colab-badge.svg\" alt=\"Open In Colab\"/></a>"
      ]
    },
    {
      "cell_type": "markdown",
      "source": [
        "# Data Preparation\n",
        "First, we need to load and preprocess the data:"
      ],
      "metadata": {
        "id": "PB81TCM3eyZH"
      }
    },
    {
      "cell_type": "code",
      "source": [
        "import pandas as pd\n",
        "from sklearn.model_selection import train_test_split\n",
        "from sklearn.preprocessing import StandardScaler, OneHotEncoder\n",
        "from sklearn.linear_model import LogisticRegression\n",
        "from sklearn.ensemble import RandomForestClassifier\n",
        "from sklearn.metrics import log_loss\n",
        "import tensorflow as tf\n",
        "from tensorflow.keras.models import Sequential\n",
        "from tensorflow.keras.layers import Dense"
      ],
      "metadata": {
        "id": "QwsvaM8tZQta"
      },
      "execution_count": 1,
      "outputs": []
    },
    {
      "cell_type": "code",
      "source": [
        "!git clone https://github.com/judyschen/Profolio.git"
      ],
      "metadata": {
        "colab": {
          "base_uri": "https://localhost:8080/"
        },
        "id": "a6B5-SGTuvC8",
        "outputId": "f26c0b75-ac7e-473f-80ee-561160514a8d"
      },
      "execution_count": 2,
      "outputs": [
        {
          "output_type": "stream",
          "name": "stdout",
          "text": [
            "Cloning into 'Profolio'...\n",
            "remote: Enumerating objects: 33, done.\u001b[K\n",
            "remote: Counting objects: 100% (33/33), done.\u001b[K\n",
            "remote: Compressing objects: 100% (31/31), done.\u001b[K\n",
            "remote: Total 33 (delta 7), reused 0 (delta 0), pack-reused 0\u001b[K\n",
            "Receiving objects: 100% (33/33), 4.53 MiB | 2.75 MiB/s, done.\n",
            "Resolving deltas: 100% (7/7), done.\n"
          ]
        }
      ]
    },
    {
      "cell_type": "code",
      "source": [
        "# Load the data\n",
        "train_data = pd.read_csv('Profolio/(Multi-Class Prediction)train.csv')\n",
        "test_data = pd.read_csv('Profolio/(Multi-Class Prediction)test.csv')"
      ],
      "metadata": {
        "id": "6fx1Z3IxZVWh"
      },
      "execution_count": 4,
      "outputs": []
    },
    {
      "cell_type": "code",
      "source": [
        "train_data.head()"
      ],
      "metadata": {
        "colab": {
          "base_uri": "https://localhost:8080/",
          "height": 243
        },
        "id": "VJzNHX-D5Wel",
        "outputId": "61438b7b-353f-4e04-eb95-8134916903dd"
      },
      "execution_count": 5,
      "outputs": [
        {
          "output_type": "execute_result",
          "data": {
            "text/plain": [
              "   id  N_Days             Drug    Age Sex Ascites Hepatomegaly Spiders Edema  \\\n",
              "0   0     999  D-penicillamine  21532   M       N            N       N     N   \n",
              "1   1    2574          Placebo  19237   F       N            N       N     N   \n",
              "2   2    3428          Placebo  13727   F       N            Y       Y     Y   \n",
              "3   3    2576          Placebo  18460   F       N            N       N     N   \n",
              "4   4     788          Placebo  16658   F       N            Y       N     N   \n",
              "\n",
              "   Bilirubin  Cholesterol  Albumin  Copper  Alk_Phos    SGOT  Tryglicerides  \\\n",
              "0        2.3        316.0     3.35   172.0    1601.0  179.80           63.0   \n",
              "1        0.9        364.0     3.54    63.0    1440.0  134.85           88.0   \n",
              "2        3.3        299.0     3.55   131.0    1029.0  119.35           50.0   \n",
              "3        0.6        256.0     3.50    58.0    1653.0   71.30           96.0   \n",
              "4        1.1        346.0     3.65    63.0    1181.0  125.55           96.0   \n",
              "\n",
              "   Platelets  Prothrombin  Stage Status  \n",
              "0      394.0          9.7    3.0      D  \n",
              "1      361.0         11.0    3.0      C  \n",
              "2      199.0         11.7    4.0      D  \n",
              "3      269.0         10.7    3.0      C  \n",
              "4      298.0         10.6    4.0      C  "
            ],
            "text/html": [
              "\n",
              "  <div id=\"df-9c68fdb9-b73e-4682-9b23-2d620d7e07a1\" class=\"colab-df-container\">\n",
              "    <div>\n",
              "<style scoped>\n",
              "    .dataframe tbody tr th:only-of-type {\n",
              "        vertical-align: middle;\n",
              "    }\n",
              "\n",
              "    .dataframe tbody tr th {\n",
              "        vertical-align: top;\n",
              "    }\n",
              "\n",
              "    .dataframe thead th {\n",
              "        text-align: right;\n",
              "    }\n",
              "</style>\n",
              "<table border=\"1\" class=\"dataframe\">\n",
              "  <thead>\n",
              "    <tr style=\"text-align: right;\">\n",
              "      <th></th>\n",
              "      <th>id</th>\n",
              "      <th>N_Days</th>\n",
              "      <th>Drug</th>\n",
              "      <th>Age</th>\n",
              "      <th>Sex</th>\n",
              "      <th>Ascites</th>\n",
              "      <th>Hepatomegaly</th>\n",
              "      <th>Spiders</th>\n",
              "      <th>Edema</th>\n",
              "      <th>Bilirubin</th>\n",
              "      <th>Cholesterol</th>\n",
              "      <th>Albumin</th>\n",
              "      <th>Copper</th>\n",
              "      <th>Alk_Phos</th>\n",
              "      <th>SGOT</th>\n",
              "      <th>Tryglicerides</th>\n",
              "      <th>Platelets</th>\n",
              "      <th>Prothrombin</th>\n",
              "      <th>Stage</th>\n",
              "      <th>Status</th>\n",
              "    </tr>\n",
              "  </thead>\n",
              "  <tbody>\n",
              "    <tr>\n",
              "      <th>0</th>\n",
              "      <td>0</td>\n",
              "      <td>999</td>\n",
              "      <td>D-penicillamine</td>\n",
              "      <td>21532</td>\n",
              "      <td>M</td>\n",
              "      <td>N</td>\n",
              "      <td>N</td>\n",
              "      <td>N</td>\n",
              "      <td>N</td>\n",
              "      <td>2.3</td>\n",
              "      <td>316.0</td>\n",
              "      <td>3.35</td>\n",
              "      <td>172.0</td>\n",
              "      <td>1601.0</td>\n",
              "      <td>179.80</td>\n",
              "      <td>63.0</td>\n",
              "      <td>394.0</td>\n",
              "      <td>9.7</td>\n",
              "      <td>3.0</td>\n",
              "      <td>D</td>\n",
              "    </tr>\n",
              "    <tr>\n",
              "      <th>1</th>\n",
              "      <td>1</td>\n",
              "      <td>2574</td>\n",
              "      <td>Placebo</td>\n",
              "      <td>19237</td>\n",
              "      <td>F</td>\n",
              "      <td>N</td>\n",
              "      <td>N</td>\n",
              "      <td>N</td>\n",
              "      <td>N</td>\n",
              "      <td>0.9</td>\n",
              "      <td>364.0</td>\n",
              "      <td>3.54</td>\n",
              "      <td>63.0</td>\n",
              "      <td>1440.0</td>\n",
              "      <td>134.85</td>\n",
              "      <td>88.0</td>\n",
              "      <td>361.0</td>\n",
              "      <td>11.0</td>\n",
              "      <td>3.0</td>\n",
              "      <td>C</td>\n",
              "    </tr>\n",
              "    <tr>\n",
              "      <th>2</th>\n",
              "      <td>2</td>\n",
              "      <td>3428</td>\n",
              "      <td>Placebo</td>\n",
              "      <td>13727</td>\n",
              "      <td>F</td>\n",
              "      <td>N</td>\n",
              "      <td>Y</td>\n",
              "      <td>Y</td>\n",
              "      <td>Y</td>\n",
              "      <td>3.3</td>\n",
              "      <td>299.0</td>\n",
              "      <td>3.55</td>\n",
              "      <td>131.0</td>\n",
              "      <td>1029.0</td>\n",
              "      <td>119.35</td>\n",
              "      <td>50.0</td>\n",
              "      <td>199.0</td>\n",
              "      <td>11.7</td>\n",
              "      <td>4.0</td>\n",
              "      <td>D</td>\n",
              "    </tr>\n",
              "    <tr>\n",
              "      <th>3</th>\n",
              "      <td>3</td>\n",
              "      <td>2576</td>\n",
              "      <td>Placebo</td>\n",
              "      <td>18460</td>\n",
              "      <td>F</td>\n",
              "      <td>N</td>\n",
              "      <td>N</td>\n",
              "      <td>N</td>\n",
              "      <td>N</td>\n",
              "      <td>0.6</td>\n",
              "      <td>256.0</td>\n",
              "      <td>3.50</td>\n",
              "      <td>58.0</td>\n",
              "      <td>1653.0</td>\n",
              "      <td>71.30</td>\n",
              "      <td>96.0</td>\n",
              "      <td>269.0</td>\n",
              "      <td>10.7</td>\n",
              "      <td>3.0</td>\n",
              "      <td>C</td>\n",
              "    </tr>\n",
              "    <tr>\n",
              "      <th>4</th>\n",
              "      <td>4</td>\n",
              "      <td>788</td>\n",
              "      <td>Placebo</td>\n",
              "      <td>16658</td>\n",
              "      <td>F</td>\n",
              "      <td>N</td>\n",
              "      <td>Y</td>\n",
              "      <td>N</td>\n",
              "      <td>N</td>\n",
              "      <td>1.1</td>\n",
              "      <td>346.0</td>\n",
              "      <td>3.65</td>\n",
              "      <td>63.0</td>\n",
              "      <td>1181.0</td>\n",
              "      <td>125.55</td>\n",
              "      <td>96.0</td>\n",
              "      <td>298.0</td>\n",
              "      <td>10.6</td>\n",
              "      <td>4.0</td>\n",
              "      <td>C</td>\n",
              "    </tr>\n",
              "  </tbody>\n",
              "</table>\n",
              "</div>\n",
              "    <div class=\"colab-df-buttons\">\n",
              "\n",
              "  <div class=\"colab-df-container\">\n",
              "    <button class=\"colab-df-convert\" onclick=\"convertToInteractive('df-9c68fdb9-b73e-4682-9b23-2d620d7e07a1')\"\n",
              "            title=\"Convert this dataframe to an interactive table.\"\n",
              "            style=\"display:none;\">\n",
              "\n",
              "  <svg xmlns=\"http://www.w3.org/2000/svg\" height=\"24px\" viewBox=\"0 -960 960 960\">\n",
              "    <path d=\"M120-120v-720h720v720H120Zm60-500h600v-160H180v160Zm220 220h160v-160H400v160Zm0 220h160v-160H400v160ZM180-400h160v-160H180v160Zm440 0h160v-160H620v160ZM180-180h160v-160H180v160Zm440 0h160v-160H620v160Z\"/>\n",
              "  </svg>\n",
              "    </button>\n",
              "\n",
              "  <style>\n",
              "    .colab-df-container {\n",
              "      display:flex;\n",
              "      gap: 12px;\n",
              "    }\n",
              "\n",
              "    .colab-df-convert {\n",
              "      background-color: #E8F0FE;\n",
              "      border: none;\n",
              "      border-radius: 50%;\n",
              "      cursor: pointer;\n",
              "      display: none;\n",
              "      fill: #1967D2;\n",
              "      height: 32px;\n",
              "      padding: 0 0 0 0;\n",
              "      width: 32px;\n",
              "    }\n",
              "\n",
              "    .colab-df-convert:hover {\n",
              "      background-color: #E2EBFA;\n",
              "      box-shadow: 0px 1px 2px rgba(60, 64, 67, 0.3), 0px 1px 3px 1px rgba(60, 64, 67, 0.15);\n",
              "      fill: #174EA6;\n",
              "    }\n",
              "\n",
              "    .colab-df-buttons div {\n",
              "      margin-bottom: 4px;\n",
              "    }\n",
              "\n",
              "    [theme=dark] .colab-df-convert {\n",
              "      background-color: #3B4455;\n",
              "      fill: #D2E3FC;\n",
              "    }\n",
              "\n",
              "    [theme=dark] .colab-df-convert:hover {\n",
              "      background-color: #434B5C;\n",
              "      box-shadow: 0px 1px 3px 1px rgba(0, 0, 0, 0.15);\n",
              "      filter: drop-shadow(0px 1px 2px rgba(0, 0, 0, 0.3));\n",
              "      fill: #FFFFFF;\n",
              "    }\n",
              "  </style>\n",
              "\n",
              "    <script>\n",
              "      const buttonEl =\n",
              "        document.querySelector('#df-9c68fdb9-b73e-4682-9b23-2d620d7e07a1 button.colab-df-convert');\n",
              "      buttonEl.style.display =\n",
              "        google.colab.kernel.accessAllowed ? 'block' : 'none';\n",
              "\n",
              "      async function convertToInteractive(key) {\n",
              "        const element = document.querySelector('#df-9c68fdb9-b73e-4682-9b23-2d620d7e07a1');\n",
              "        const dataTable =\n",
              "          await google.colab.kernel.invokeFunction('convertToInteractive',\n",
              "                                                    [key], {});\n",
              "        if (!dataTable) return;\n",
              "\n",
              "        const docLinkHtml = 'Like what you see? Visit the ' +\n",
              "          '<a target=\"_blank\" href=https://colab.research.google.com/notebooks/data_table.ipynb>data table notebook</a>'\n",
              "          + ' to learn more about interactive tables.';\n",
              "        element.innerHTML = '';\n",
              "        dataTable['output_type'] = 'display_data';\n",
              "        await google.colab.output.renderOutput(dataTable, element);\n",
              "        const docLink = document.createElement('div');\n",
              "        docLink.innerHTML = docLinkHtml;\n",
              "        element.appendChild(docLink);\n",
              "      }\n",
              "    </script>\n",
              "  </div>\n",
              "\n",
              "\n",
              "<div id=\"df-a8f193a6-e89c-4ee0-b33a-0357499e4bb0\">\n",
              "  <button class=\"colab-df-quickchart\" onclick=\"quickchart('df-a8f193a6-e89c-4ee0-b33a-0357499e4bb0')\"\n",
              "            title=\"Suggest charts\"\n",
              "            style=\"display:none;\">\n",
              "\n",
              "<svg xmlns=\"http://www.w3.org/2000/svg\" height=\"24px\"viewBox=\"0 0 24 24\"\n",
              "     width=\"24px\">\n",
              "    <g>\n",
              "        <path d=\"M19 3H5c-1.1 0-2 .9-2 2v14c0 1.1.9 2 2 2h14c1.1 0 2-.9 2-2V5c0-1.1-.9-2-2-2zM9 17H7v-7h2v7zm4 0h-2V7h2v10zm4 0h-2v-4h2v4z\"/>\n",
              "    </g>\n",
              "</svg>\n",
              "  </button>\n",
              "\n",
              "<style>\n",
              "  .colab-df-quickchart {\n",
              "      --bg-color: #E8F0FE;\n",
              "      --fill-color: #1967D2;\n",
              "      --hover-bg-color: #E2EBFA;\n",
              "      --hover-fill-color: #174EA6;\n",
              "      --disabled-fill-color: #AAA;\n",
              "      --disabled-bg-color: #DDD;\n",
              "  }\n",
              "\n",
              "  [theme=dark] .colab-df-quickchart {\n",
              "      --bg-color: #3B4455;\n",
              "      --fill-color: #D2E3FC;\n",
              "      --hover-bg-color: #434B5C;\n",
              "      --hover-fill-color: #FFFFFF;\n",
              "      --disabled-bg-color: #3B4455;\n",
              "      --disabled-fill-color: #666;\n",
              "  }\n",
              "\n",
              "  .colab-df-quickchart {\n",
              "    background-color: var(--bg-color);\n",
              "    border: none;\n",
              "    border-radius: 50%;\n",
              "    cursor: pointer;\n",
              "    display: none;\n",
              "    fill: var(--fill-color);\n",
              "    height: 32px;\n",
              "    padding: 0;\n",
              "    width: 32px;\n",
              "  }\n",
              "\n",
              "  .colab-df-quickchart:hover {\n",
              "    background-color: var(--hover-bg-color);\n",
              "    box-shadow: 0 1px 2px rgba(60, 64, 67, 0.3), 0 1px 3px 1px rgba(60, 64, 67, 0.15);\n",
              "    fill: var(--button-hover-fill-color);\n",
              "  }\n",
              "\n",
              "  .colab-df-quickchart-complete:disabled,\n",
              "  .colab-df-quickchart-complete:disabled:hover {\n",
              "    background-color: var(--disabled-bg-color);\n",
              "    fill: var(--disabled-fill-color);\n",
              "    box-shadow: none;\n",
              "  }\n",
              "\n",
              "  .colab-df-spinner {\n",
              "    border: 2px solid var(--fill-color);\n",
              "    border-color: transparent;\n",
              "    border-bottom-color: var(--fill-color);\n",
              "    animation:\n",
              "      spin 1s steps(1) infinite;\n",
              "  }\n",
              "\n",
              "  @keyframes spin {\n",
              "    0% {\n",
              "      border-color: transparent;\n",
              "      border-bottom-color: var(--fill-color);\n",
              "      border-left-color: var(--fill-color);\n",
              "    }\n",
              "    20% {\n",
              "      border-color: transparent;\n",
              "      border-left-color: var(--fill-color);\n",
              "      border-top-color: var(--fill-color);\n",
              "    }\n",
              "    30% {\n",
              "      border-color: transparent;\n",
              "      border-left-color: var(--fill-color);\n",
              "      border-top-color: var(--fill-color);\n",
              "      border-right-color: var(--fill-color);\n",
              "    }\n",
              "    40% {\n",
              "      border-color: transparent;\n",
              "      border-right-color: var(--fill-color);\n",
              "      border-top-color: var(--fill-color);\n",
              "    }\n",
              "    60% {\n",
              "      border-color: transparent;\n",
              "      border-right-color: var(--fill-color);\n",
              "    }\n",
              "    80% {\n",
              "      border-color: transparent;\n",
              "      border-right-color: var(--fill-color);\n",
              "      border-bottom-color: var(--fill-color);\n",
              "    }\n",
              "    90% {\n",
              "      border-color: transparent;\n",
              "      border-bottom-color: var(--fill-color);\n",
              "    }\n",
              "  }\n",
              "</style>\n",
              "\n",
              "  <script>\n",
              "    async function quickchart(key) {\n",
              "      const quickchartButtonEl =\n",
              "        document.querySelector('#' + key + ' button');\n",
              "      quickchartButtonEl.disabled = true;  // To prevent multiple clicks.\n",
              "      quickchartButtonEl.classList.add('colab-df-spinner');\n",
              "      try {\n",
              "        const charts = await google.colab.kernel.invokeFunction(\n",
              "            'suggestCharts', [key], {});\n",
              "      } catch (error) {\n",
              "        console.error('Error during call to suggestCharts:', error);\n",
              "      }\n",
              "      quickchartButtonEl.classList.remove('colab-df-spinner');\n",
              "      quickchartButtonEl.classList.add('colab-df-quickchart-complete');\n",
              "    }\n",
              "    (() => {\n",
              "      let quickchartButtonEl =\n",
              "        document.querySelector('#df-a8f193a6-e89c-4ee0-b33a-0357499e4bb0 button');\n",
              "      quickchartButtonEl.style.display =\n",
              "        google.colab.kernel.accessAllowed ? 'block' : 'none';\n",
              "    })();\n",
              "  </script>\n",
              "</div>\n",
              "\n",
              "    </div>\n",
              "  </div>\n"
            ],
            "application/vnd.google.colaboratory.intrinsic+json": {
              "type": "dataframe",
              "variable_name": "train_data",
              "summary": "{\n  \"name\": \"train_data\",\n  \"rows\": 7905,\n  \"fields\": [\n    {\n      \"column\": \"id\",\n      \"properties\": {\n        \"dtype\": \"number\",\n        \"std\": 2282,\n        \"min\": 0,\n        \"max\": 7904,\n        \"num_unique_values\": 7905,\n        \"samples\": [\n          3467,\n          465,\n          453\n        ],\n        \"semantic_type\": \"\",\n        \"description\": \"\"\n      }\n    },\n    {\n      \"column\": \"N_Days\",\n      \"properties\": {\n        \"dtype\": \"number\",\n        \"std\": 1094,\n        \"min\": 41,\n        \"max\": 4795,\n        \"num_unique_values\": 461,\n        \"samples\": [\n          130,\n          1882,\n          3170\n        ],\n        \"semantic_type\": \"\",\n        \"description\": \"\"\n      }\n    },\n    {\n      \"column\": \"Drug\",\n      \"properties\": {\n        \"dtype\": \"category\",\n        \"num_unique_values\": 2,\n        \"samples\": [\n          \"Placebo\",\n          \"D-penicillamine\"\n        ],\n        \"semantic_type\": \"\",\n        \"description\": \"\"\n      }\n    },\n    {\n      \"column\": \"Age\",\n      \"properties\": {\n        \"dtype\": \"number\",\n        \"std\": 3679,\n        \"min\": 9598,\n        \"max\": 28650,\n        \"num_unique_values\": 391,\n        \"samples\": [\n          15009,\n          14019\n        ],\n        \"semantic_type\": \"\",\n        \"description\": \"\"\n      }\n    },\n    {\n      \"column\": \"Sex\",\n      \"properties\": {\n        \"dtype\": \"category\",\n        \"num_unique_values\": 2,\n        \"samples\": [\n          \"F\",\n          \"M\"\n        ],\n        \"semantic_type\": \"\",\n        \"description\": \"\"\n      }\n    },\n    {\n      \"column\": \"Ascites\",\n      \"properties\": {\n        \"dtype\": \"category\",\n        \"num_unique_values\": 2,\n        \"samples\": [\n          \"Y\",\n          \"N\"\n        ],\n        \"semantic_type\": \"\",\n        \"description\": \"\"\n      }\n    },\n    {\n      \"column\": \"Hepatomegaly\",\n      \"properties\": {\n        \"dtype\": \"category\",\n        \"num_unique_values\": 2,\n        \"samples\": [\n          \"Y\",\n          \"N\"\n        ],\n        \"semantic_type\": \"\",\n        \"description\": \"\"\n      }\n    },\n    {\n      \"column\": \"Spiders\",\n      \"properties\": {\n        \"dtype\": \"category\",\n        \"num_unique_values\": 2,\n        \"samples\": [\n          \"Y\",\n          \"N\"\n        ],\n        \"semantic_type\": \"\",\n        \"description\": \"\"\n      }\n    },\n    {\n      \"column\": \"Edema\",\n      \"properties\": {\n        \"dtype\": \"category\",\n        \"num_unique_values\": 3,\n        \"samples\": [\n          \"N\",\n          \"Y\"\n        ],\n        \"semantic_type\": \"\",\n        \"description\": \"\"\n      }\n    },\n    {\n      \"column\": \"Bilirubin\",\n      \"properties\": {\n        \"dtype\": \"number\",\n        \"std\": 3.8129603247080253,\n        \"min\": 0.3,\n        \"max\": 28.0,\n        \"num_unique_values\": 111,\n        \"samples\": [\n          7.3,\n          1.3\n        ],\n        \"semantic_type\": \"\",\n        \"description\": \"\"\n      }\n    },\n    {\n      \"column\": \"Cholesterol\",\n      \"properties\": {\n        \"dtype\": \"number\",\n        \"std\": 195.37934396689388,\n        \"min\": 120.0,\n        \"max\": 1775.0,\n        \"num_unique_values\": 226,\n        \"samples\": [\n          478.0,\n          340.0\n        ],\n        \"semantic_type\": \"\",\n        \"description\": \"\"\n      }\n    },\n    {\n      \"column\": \"Albumin\",\n      \"properties\": {\n        \"dtype\": \"number\",\n        \"std\": 0.3461708110784792,\n        \"min\": 1.96,\n        \"max\": 4.64,\n        \"num_unique_values\": 160,\n        \"samples\": [\n          2.53,\n          3.45\n        ],\n        \"semantic_type\": \"\",\n        \"description\": \"\"\n      }\n    },\n    {\n      \"column\": \"Copper\",\n      \"properties\": {\n        \"dtype\": \"number\",\n        \"std\": 75.89926584569689,\n        \"min\": 4.0,\n        \"max\": 588.0,\n        \"num_unique_values\": 171,\n        \"samples\": [\n          101.0,\n          123.0\n        ],\n        \"semantic_type\": \"\",\n        \"description\": \"\"\n      }\n    },\n    {\n      \"column\": \"Alk_Phos\",\n      \"properties\": {\n        \"dtype\": \"number\",\n        \"std\": 1903.750657315917,\n        \"min\": 289.0,\n        \"max\": 13862.4,\n        \"num_unique_values\": 364,\n        \"samples\": [\n          1536.0,\n          938.0\n        ],\n        \"semantic_type\": \"\",\n        \"description\": \"\"\n      }\n    },\n    {\n      \"column\": \"SGOT\",\n      \"properties\": {\n        \"dtype\": \"number\",\n        \"std\": 48.79094489183394,\n        \"min\": 26.35,\n        \"max\": 457.25,\n        \"num_unique_values\": 206,\n        \"samples\": [\n          184.45,\n          171.0\n        ],\n        \"semantic_type\": \"\",\n        \"description\": \"\"\n      }\n    },\n    {\n      \"column\": \"Tryglicerides\",\n      \"properties\": {\n        \"dtype\": \"number\",\n        \"std\": 52.53040171631092,\n        \"min\": 33.0,\n        \"max\": 598.0,\n        \"num_unique_values\": 154,\n        \"samples\": [\n          133.0,\n          175.0\n        ],\n        \"semantic_type\": \"\",\n        \"description\": \"\"\n      }\n    },\n    {\n      \"column\": \"Platelets\",\n      \"properties\": {\n        \"dtype\": \"number\",\n        \"std\": 87.46557851441047,\n        \"min\": 62.0,\n        \"max\": 563.0,\n        \"num_unique_values\": 227,\n        \"samples\": [\n          336.0,\n          327.0\n        ],\n        \"semantic_type\": \"\",\n        \"description\": \"\"\n      }\n    },\n    {\n      \"column\": \"Prothrombin\",\n      \"properties\": {\n        \"dtype\": \"number\",\n        \"std\": 0.7817348264911252,\n        \"min\": 9.0,\n        \"max\": 18.0,\n        \"num_unique_values\": 49,\n        \"samples\": [\n          12.1,\n          13.4\n        ],\n        \"semantic_type\": \"\",\n        \"description\": \"\"\n      }\n    },\n    {\n      \"column\": \"Stage\",\n      \"properties\": {\n        \"dtype\": \"number\",\n        \"std\": 0.8665106288728248,\n        \"min\": 1.0,\n        \"max\": 4.0,\n        \"num_unique_values\": 4,\n        \"samples\": [\n          4.0,\n          1.0\n        ],\n        \"semantic_type\": \"\",\n        \"description\": \"\"\n      }\n    },\n    {\n      \"column\": \"Status\",\n      \"properties\": {\n        \"dtype\": \"category\",\n        \"num_unique_values\": 3,\n        \"samples\": [\n          \"D\",\n          \"C\"\n        ],\n        \"semantic_type\": \"\",\n        \"description\": \"\"\n      }\n    }\n  ]\n}"
            }
          },
          "metadata": {},
          "execution_count": 5
        }
      ]
    },
    {
      "cell_type": "code",
      "source": [
        "test_data.head()"
      ],
      "metadata": {
        "colab": {
          "base_uri": "https://localhost:8080/",
          "height": 295
        },
        "id": "KQr70im-yqWH",
        "outputId": "716aae47-47a0-4ac2-940c-e979ea3ae7a3"
      },
      "execution_count": null,
      "outputs": [
        {
          "output_type": "execute_result",
          "data": {
            "text/plain": [
              "     id  N_Days             Drug    Age Sex Ascites Hepatomegaly Spiders  \\\n",
              "0  7905    3839  D-penicillamine  19724   F       N            Y       N   \n",
              "1  7906    2468  D-penicillamine  14975   F       N            N       N   \n",
              "2  7907      51          Placebo  13149   F       N            Y       N   \n",
              "3  7908    2330  D-penicillamine  20510   F       N            N       N   \n",
              "4  7909    1615  D-penicillamine  21904   F       N            Y       N   \n",
              "\n",
              "  Edema  Bilirubin  Cholesterol  Albumin  Copper  Alk_Phos    SGOT  \\\n",
              "0     N        1.2        546.0     3.37    65.0    1636.0  151.90   \n",
              "1     N        1.1        660.0     4.22    94.0    1257.0  151.90   \n",
              "2     Y        2.0        151.0     2.96    46.0     961.0   69.75   \n",
              "3     N        0.6        293.0     3.85    40.0     554.0  125.55   \n",
              "4     N        1.4        277.0     2.97   121.0    1110.0  125.00   \n",
              "\n",
              "   Tryglicerides  Platelets  Prothrombin  Stage  \n",
              "0           90.0      430.0         10.6    2.0  \n",
              "1          155.0      227.0         10.0    2.0  \n",
              "2          101.0      213.0         13.0    4.0  \n",
              "3           56.0      270.0         10.6    2.0  \n",
              "4          126.0      221.0          9.8    1.0  "
            ],
            "text/html": [
              "\n",
              "  <div id=\"df-724ff2f6-092e-4573-9baf-b5b2c0ad0bf7\" class=\"colab-df-container\">\n",
              "    <div>\n",
              "<style scoped>\n",
              "    .dataframe tbody tr th:only-of-type {\n",
              "        vertical-align: middle;\n",
              "    }\n",
              "\n",
              "    .dataframe tbody tr th {\n",
              "        vertical-align: top;\n",
              "    }\n",
              "\n",
              "    .dataframe thead th {\n",
              "        text-align: right;\n",
              "    }\n",
              "</style>\n",
              "<table border=\"1\" class=\"dataframe\">\n",
              "  <thead>\n",
              "    <tr style=\"text-align: right;\">\n",
              "      <th></th>\n",
              "      <th>id</th>\n",
              "      <th>N_Days</th>\n",
              "      <th>Drug</th>\n",
              "      <th>Age</th>\n",
              "      <th>Sex</th>\n",
              "      <th>Ascites</th>\n",
              "      <th>Hepatomegaly</th>\n",
              "      <th>Spiders</th>\n",
              "      <th>Edema</th>\n",
              "      <th>Bilirubin</th>\n",
              "      <th>Cholesterol</th>\n",
              "      <th>Albumin</th>\n",
              "      <th>Copper</th>\n",
              "      <th>Alk_Phos</th>\n",
              "      <th>SGOT</th>\n",
              "      <th>Tryglicerides</th>\n",
              "      <th>Platelets</th>\n",
              "      <th>Prothrombin</th>\n",
              "      <th>Stage</th>\n",
              "    </tr>\n",
              "  </thead>\n",
              "  <tbody>\n",
              "    <tr>\n",
              "      <th>0</th>\n",
              "      <td>7905</td>\n",
              "      <td>3839</td>\n",
              "      <td>D-penicillamine</td>\n",
              "      <td>19724</td>\n",
              "      <td>F</td>\n",
              "      <td>N</td>\n",
              "      <td>Y</td>\n",
              "      <td>N</td>\n",
              "      <td>N</td>\n",
              "      <td>1.2</td>\n",
              "      <td>546.0</td>\n",
              "      <td>3.37</td>\n",
              "      <td>65.0</td>\n",
              "      <td>1636.0</td>\n",
              "      <td>151.90</td>\n",
              "      <td>90.0</td>\n",
              "      <td>430.0</td>\n",
              "      <td>10.6</td>\n",
              "      <td>2.0</td>\n",
              "    </tr>\n",
              "    <tr>\n",
              "      <th>1</th>\n",
              "      <td>7906</td>\n",
              "      <td>2468</td>\n",
              "      <td>D-penicillamine</td>\n",
              "      <td>14975</td>\n",
              "      <td>F</td>\n",
              "      <td>N</td>\n",
              "      <td>N</td>\n",
              "      <td>N</td>\n",
              "      <td>N</td>\n",
              "      <td>1.1</td>\n",
              "      <td>660.0</td>\n",
              "      <td>4.22</td>\n",
              "      <td>94.0</td>\n",
              "      <td>1257.0</td>\n",
              "      <td>151.90</td>\n",
              "      <td>155.0</td>\n",
              "      <td>227.0</td>\n",
              "      <td>10.0</td>\n",
              "      <td>2.0</td>\n",
              "    </tr>\n",
              "    <tr>\n",
              "      <th>2</th>\n",
              "      <td>7907</td>\n",
              "      <td>51</td>\n",
              "      <td>Placebo</td>\n",
              "      <td>13149</td>\n",
              "      <td>F</td>\n",
              "      <td>N</td>\n",
              "      <td>Y</td>\n",
              "      <td>N</td>\n",
              "      <td>Y</td>\n",
              "      <td>2.0</td>\n",
              "      <td>151.0</td>\n",
              "      <td>2.96</td>\n",
              "      <td>46.0</td>\n",
              "      <td>961.0</td>\n",
              "      <td>69.75</td>\n",
              "      <td>101.0</td>\n",
              "      <td>213.0</td>\n",
              "      <td>13.0</td>\n",
              "      <td>4.0</td>\n",
              "    </tr>\n",
              "    <tr>\n",
              "      <th>3</th>\n",
              "      <td>7908</td>\n",
              "      <td>2330</td>\n",
              "      <td>D-penicillamine</td>\n",
              "      <td>20510</td>\n",
              "      <td>F</td>\n",
              "      <td>N</td>\n",
              "      <td>N</td>\n",
              "      <td>N</td>\n",
              "      <td>N</td>\n",
              "      <td>0.6</td>\n",
              "      <td>293.0</td>\n",
              "      <td>3.85</td>\n",
              "      <td>40.0</td>\n",
              "      <td>554.0</td>\n",
              "      <td>125.55</td>\n",
              "      <td>56.0</td>\n",
              "      <td>270.0</td>\n",
              "      <td>10.6</td>\n",
              "      <td>2.0</td>\n",
              "    </tr>\n",
              "    <tr>\n",
              "      <th>4</th>\n",
              "      <td>7909</td>\n",
              "      <td>1615</td>\n",
              "      <td>D-penicillamine</td>\n",
              "      <td>21904</td>\n",
              "      <td>F</td>\n",
              "      <td>N</td>\n",
              "      <td>Y</td>\n",
              "      <td>N</td>\n",
              "      <td>N</td>\n",
              "      <td>1.4</td>\n",
              "      <td>277.0</td>\n",
              "      <td>2.97</td>\n",
              "      <td>121.0</td>\n",
              "      <td>1110.0</td>\n",
              "      <td>125.00</td>\n",
              "      <td>126.0</td>\n",
              "      <td>221.0</td>\n",
              "      <td>9.8</td>\n",
              "      <td>1.0</td>\n",
              "    </tr>\n",
              "  </tbody>\n",
              "</table>\n",
              "</div>\n",
              "    <div class=\"colab-df-buttons\">\n",
              "\n",
              "  <div class=\"colab-df-container\">\n",
              "    <button class=\"colab-df-convert\" onclick=\"convertToInteractive('df-724ff2f6-092e-4573-9baf-b5b2c0ad0bf7')\"\n",
              "            title=\"Convert this dataframe to an interactive table.\"\n",
              "            style=\"display:none;\">\n",
              "\n",
              "  <svg xmlns=\"http://www.w3.org/2000/svg\" height=\"24px\" viewBox=\"0 -960 960 960\">\n",
              "    <path d=\"M120-120v-720h720v720H120Zm60-500h600v-160H180v160Zm220 220h160v-160H400v160Zm0 220h160v-160H400v160ZM180-400h160v-160H180v160Zm440 0h160v-160H620v160ZM180-180h160v-160H180v160Zm440 0h160v-160H620v160Z\"/>\n",
              "  </svg>\n",
              "    </button>\n",
              "\n",
              "  <style>\n",
              "    .colab-df-container {\n",
              "      display:flex;\n",
              "      gap: 12px;\n",
              "    }\n",
              "\n",
              "    .colab-df-convert {\n",
              "      background-color: #E8F0FE;\n",
              "      border: none;\n",
              "      border-radius: 50%;\n",
              "      cursor: pointer;\n",
              "      display: none;\n",
              "      fill: #1967D2;\n",
              "      height: 32px;\n",
              "      padding: 0 0 0 0;\n",
              "      width: 32px;\n",
              "    }\n",
              "\n",
              "    .colab-df-convert:hover {\n",
              "      background-color: #E2EBFA;\n",
              "      box-shadow: 0px 1px 2px rgba(60, 64, 67, 0.3), 0px 1px 3px 1px rgba(60, 64, 67, 0.15);\n",
              "      fill: #174EA6;\n",
              "    }\n",
              "\n",
              "    .colab-df-buttons div {\n",
              "      margin-bottom: 4px;\n",
              "    }\n",
              "\n",
              "    [theme=dark] .colab-df-convert {\n",
              "      background-color: #3B4455;\n",
              "      fill: #D2E3FC;\n",
              "    }\n",
              "\n",
              "    [theme=dark] .colab-df-convert:hover {\n",
              "      background-color: #434B5C;\n",
              "      box-shadow: 0px 1px 3px 1px rgba(0, 0, 0, 0.15);\n",
              "      filter: drop-shadow(0px 1px 2px rgba(0, 0, 0, 0.3));\n",
              "      fill: #FFFFFF;\n",
              "    }\n",
              "  </style>\n",
              "\n",
              "    <script>\n",
              "      const buttonEl =\n",
              "        document.querySelector('#df-724ff2f6-092e-4573-9baf-b5b2c0ad0bf7 button.colab-df-convert');\n",
              "      buttonEl.style.display =\n",
              "        google.colab.kernel.accessAllowed ? 'block' : 'none';\n",
              "\n",
              "      async function convertToInteractive(key) {\n",
              "        const element = document.querySelector('#df-724ff2f6-092e-4573-9baf-b5b2c0ad0bf7');\n",
              "        const dataTable =\n",
              "          await google.colab.kernel.invokeFunction('convertToInteractive',\n",
              "                                                    [key], {});\n",
              "        if (!dataTable) return;\n",
              "\n",
              "        const docLinkHtml = 'Like what you see? Visit the ' +\n",
              "          '<a target=\"_blank\" href=https://colab.research.google.com/notebooks/data_table.ipynb>data table notebook</a>'\n",
              "          + ' to learn more about interactive tables.';\n",
              "        element.innerHTML = '';\n",
              "        dataTable['output_type'] = 'display_data';\n",
              "        await google.colab.output.renderOutput(dataTable, element);\n",
              "        const docLink = document.createElement('div');\n",
              "        docLink.innerHTML = docLinkHtml;\n",
              "        element.appendChild(docLink);\n",
              "      }\n",
              "    </script>\n",
              "  </div>\n",
              "\n",
              "\n",
              "<div id=\"df-24997b2a-2349-4d69-98e8-5bd3c91477ad\">\n",
              "  <button class=\"colab-df-quickchart\" onclick=\"quickchart('df-24997b2a-2349-4d69-98e8-5bd3c91477ad')\"\n",
              "            title=\"Suggest charts\"\n",
              "            style=\"display:none;\">\n",
              "\n",
              "<svg xmlns=\"http://www.w3.org/2000/svg\" height=\"24px\"viewBox=\"0 0 24 24\"\n",
              "     width=\"24px\">\n",
              "    <g>\n",
              "        <path d=\"M19 3H5c-1.1 0-2 .9-2 2v14c0 1.1.9 2 2 2h14c1.1 0 2-.9 2-2V5c0-1.1-.9-2-2-2zM9 17H7v-7h2v7zm4 0h-2V7h2v10zm4 0h-2v-4h2v4z\"/>\n",
              "    </g>\n",
              "</svg>\n",
              "  </button>\n",
              "\n",
              "<style>\n",
              "  .colab-df-quickchart {\n",
              "      --bg-color: #E8F0FE;\n",
              "      --fill-color: #1967D2;\n",
              "      --hover-bg-color: #E2EBFA;\n",
              "      --hover-fill-color: #174EA6;\n",
              "      --disabled-fill-color: #AAA;\n",
              "      --disabled-bg-color: #DDD;\n",
              "  }\n",
              "\n",
              "  [theme=dark] .colab-df-quickchart {\n",
              "      --bg-color: #3B4455;\n",
              "      --fill-color: #D2E3FC;\n",
              "      --hover-bg-color: #434B5C;\n",
              "      --hover-fill-color: #FFFFFF;\n",
              "      --disabled-bg-color: #3B4455;\n",
              "      --disabled-fill-color: #666;\n",
              "  }\n",
              "\n",
              "  .colab-df-quickchart {\n",
              "    background-color: var(--bg-color);\n",
              "    border: none;\n",
              "    border-radius: 50%;\n",
              "    cursor: pointer;\n",
              "    display: none;\n",
              "    fill: var(--fill-color);\n",
              "    height: 32px;\n",
              "    padding: 0;\n",
              "    width: 32px;\n",
              "  }\n",
              "\n",
              "  .colab-df-quickchart:hover {\n",
              "    background-color: var(--hover-bg-color);\n",
              "    box-shadow: 0 1px 2px rgba(60, 64, 67, 0.3), 0 1px 3px 1px rgba(60, 64, 67, 0.15);\n",
              "    fill: var(--button-hover-fill-color);\n",
              "  }\n",
              "\n",
              "  .colab-df-quickchart-complete:disabled,\n",
              "  .colab-df-quickchart-complete:disabled:hover {\n",
              "    background-color: var(--disabled-bg-color);\n",
              "    fill: var(--disabled-fill-color);\n",
              "    box-shadow: none;\n",
              "  }\n",
              "\n",
              "  .colab-df-spinner {\n",
              "    border: 2px solid var(--fill-color);\n",
              "    border-color: transparent;\n",
              "    border-bottom-color: var(--fill-color);\n",
              "    animation:\n",
              "      spin 1s steps(1) infinite;\n",
              "  }\n",
              "\n",
              "  @keyframes spin {\n",
              "    0% {\n",
              "      border-color: transparent;\n",
              "      border-bottom-color: var(--fill-color);\n",
              "      border-left-color: var(--fill-color);\n",
              "    }\n",
              "    20% {\n",
              "      border-color: transparent;\n",
              "      border-left-color: var(--fill-color);\n",
              "      border-top-color: var(--fill-color);\n",
              "    }\n",
              "    30% {\n",
              "      border-color: transparent;\n",
              "      border-left-color: var(--fill-color);\n",
              "      border-top-color: var(--fill-color);\n",
              "      border-right-color: var(--fill-color);\n",
              "    }\n",
              "    40% {\n",
              "      border-color: transparent;\n",
              "      border-right-color: var(--fill-color);\n",
              "      border-top-color: var(--fill-color);\n",
              "    }\n",
              "    60% {\n",
              "      border-color: transparent;\n",
              "      border-right-color: var(--fill-color);\n",
              "    }\n",
              "    80% {\n",
              "      border-color: transparent;\n",
              "      border-right-color: var(--fill-color);\n",
              "      border-bottom-color: var(--fill-color);\n",
              "    }\n",
              "    90% {\n",
              "      border-color: transparent;\n",
              "      border-bottom-color: var(--fill-color);\n",
              "    }\n",
              "  }\n",
              "</style>\n",
              "\n",
              "  <script>\n",
              "    async function quickchart(key) {\n",
              "      const quickchartButtonEl =\n",
              "        document.querySelector('#' + key + ' button');\n",
              "      quickchartButtonEl.disabled = true;  // To prevent multiple clicks.\n",
              "      quickchartButtonEl.classList.add('colab-df-spinner');\n",
              "      try {\n",
              "        const charts = await google.colab.kernel.invokeFunction(\n",
              "            'suggestCharts', [key], {});\n",
              "      } catch (error) {\n",
              "        console.error('Error during call to suggestCharts:', error);\n",
              "      }\n",
              "      quickchartButtonEl.classList.remove('colab-df-spinner');\n",
              "      quickchartButtonEl.classList.add('colab-df-quickchart-complete');\n",
              "    }\n",
              "    (() => {\n",
              "      let quickchartButtonEl =\n",
              "        document.querySelector('#df-24997b2a-2349-4d69-98e8-5bd3c91477ad button');\n",
              "      quickchartButtonEl.style.display =\n",
              "        google.colab.kernel.accessAllowed ? 'block' : 'none';\n",
              "    })();\n",
              "  </script>\n",
              "</div>\n",
              "\n",
              "    </div>\n",
              "  </div>\n"
            ]
          },
          "metadata": {},
          "execution_count": 135
        }
      ]
    },
    {
      "cell_type": "markdown",
      "source": [
        "This is a multi-class classification problem, with one class for each possible patient outcome.\n",
        "\n",
        "Status_C: The patient is alive (censored) at the end of the study period.\n",
        "Status_CL: The patient is alive due to a liver transplant.\n",
        "Status_D: The patient is deceased.\n",
        "Each of these outcomes is mutually exclusive and represents a different class that the model needs to predict."
      ],
      "metadata": {
        "id": "uXRb2IJXrsT3"
      }
    },
    {
      "cell_type": "code",
      "source": [
        "# Function to preprocess the data\n",
        "def preprocess_data(df, train=True, encoder=None, scaler=None):\n",
        "    # Separating features and target if it's training data\n",
        "    if train:\n",
        "        X = df.drop(['Status', 'id'], axis=1)  # Drop 'id' and 'Status' for training data\n",
        "        y = df['Status']\n",
        "    else:\n",
        "        X = df.drop(['id'], axis=1)  # Drop only 'id' for test data\n",
        "\n",
        "    # Identify categorical columns\n",
        "    categorical_cols = X.select_dtypes(include=['object']).columns\n",
        "\n",
        "    # One-hot encoding for categorical variables\n",
        "    if train:\n",
        "        encoder = OneHotEncoder(sparse=False, handle_unknown='ignore')\n",
        "        X_encoded = encoder.fit_transform(X[categorical_cols])\n",
        "    else:\n",
        "        X_encoded = encoder.transform(X[categorical_cols])\n",
        "\n",
        "    X_encoded = pd.DataFrame(X_encoded, columns=encoder.get_feature_names_out(categorical_cols))\n",
        "    X = X.drop(categorical_cols, axis=1)\n",
        "    X = pd.concat([X, X_encoded], axis=1)\n",
        "\n",
        "    # Standardize the numerical features\n",
        "    if train:\n",
        "        scaler = StandardScaler()\n",
        "        X = scaler.fit_transform(X)\n",
        "    else:\n",
        "        X = scaler.transform(X)\n",
        "\n",
        "    if train:\n",
        "        return X, y, encoder, scaler\n",
        "    else:\n",
        "        return X"
      ],
      "metadata": {
        "id": "tiC947oEfDJ0"
      },
      "execution_count": null,
      "outputs": []
    },
    {
      "cell_type": "code",
      "source": [
        "# Preprocessing the training data\n",
        "X_train, y_train, encoder, scaler = preprocess_data(train_data, train=True)\n",
        "\n",
        "# Convert target variable 'Status' into numerical form\n",
        "y_train = pd.get_dummies(y_train)\n",
        "\n",
        "# Split the data into training and validation sets\n",
        "X_train, X_val, y_train, y_val = train_test_split(X_train, y_train, test_size=0.2, random_state=42)"
      ],
      "metadata": {
        "colab": {
          "base_uri": "https://localhost:8080/"
        },
        "id": "zYwJ7MsFgZvJ",
        "outputId": "8ce969c8-ad32-4457-9a5d-005214e45c8b"
      },
      "execution_count": null,
      "outputs": [
        {
          "output_type": "stream",
          "name": "stderr",
          "text": [
            "/usr/local/lib/python3.10/dist-packages/sklearn/preprocessing/_encoders.py:868: FutureWarning: `sparse` was renamed to `sparse_output` in version 1.2 and will be removed in 1.4. `sparse_output` is ignored unless you leave `sparse` to its default value.\n",
            "  warnings.warn(\n"
          ]
        }
      ]
    },
    {
      "cell_type": "markdown",
      "source": [
        "# 1. Logistic Regression Model"
      ],
      "metadata": {
        "id": "qbuaGQFHfHiQ"
      }
    },
    {
      "cell_type": "code",
      "source": [
        "from sklearn.multiclass import OneVsRestClassifier\n",
        "\n",
        "# One-vs-Rest Logistic Regression Model\n",
        "ovr_logreg = OneVsRestClassifier(LogisticRegression(max_iter=2000))\n",
        "ovr_logreg.fit(X_train, y_train)\n",
        "ovr_logreg_preds = ovr_logreg.predict_proba(X_val)\n",
        "print(\"One-vs-Rest Logistic Regression Log Loss:\", log_loss(y_val, ovr_logreg_preds))"
      ],
      "metadata": {
        "colab": {
          "base_uri": "https://localhost:8080/"
        },
        "id": "vjC2BqdeZyNZ",
        "outputId": "ef484c37-598a-4ea1-9b6d-6560e4ca3056"
      },
      "execution_count": null,
      "outputs": [
        {
          "output_type": "stream",
          "name": "stdout",
          "text": [
            "One-vs-Rest Logistic Regression Log Loss: 0.5299581153185046\n"
          ]
        }
      ]
    },
    {
      "cell_type": "code",
      "source": [
        "from sklearn.metrics import roc_curve, auc, confusion_matrix, ConfusionMatrixDisplay\n",
        "import matplotlib.pyplot as plt\n",
        "\n",
        "# Assuming ovr_logreg is your fitted OneVsRestClassifier with LogisticRegression\n",
        "# Predict probabilities for each class\n",
        "logreg_probs = ovr_logreg.predict_proba(X_val)\n",
        "\n",
        "# Compute ROC curve and ROC area for each class\n",
        "fpr = dict()\n",
        "tpr = dict()\n",
        "roc_auc = dict()\n",
        "\n",
        "for i in range(n_classes):\n",
        "    fpr[i], tpr[i], _ = roc_curve(y_val.iloc[:, i], logreg_probs[:, i])\n",
        "    roc_auc[i] = auc(fpr[i], tpr[i])\n",
        "\n",
        "# Plot all ROC curves\n",
        "plt.figure()\n",
        "for i in range(n_classes):\n",
        "    plt.plot(fpr[i], tpr[i], label=f'Class {i} (area = {roc_auc[i]:0.2f})')\n",
        "\n",
        "plt.plot([0, 1], [0, 1], 'k--', label='Chance (area = 0.50)')\n",
        "plt.xlim([0.0, 1.0])\n",
        "plt.ylim([0.0, 1.05])\n",
        "plt.xlabel('False Positive Rate')\n",
        "plt.ylabel('True Positive Rate')\n",
        "plt.title('Receiver Operating Characteristic (ROC) - Logistic Regression')\n",
        "plt.legend(loc=\"lower right\")\n",
        "plt.show()\n"
      ],
      "metadata": {
        "colab": {
          "base_uri": "https://localhost:8080/",
          "height": 472
        },
        "id": "G4sdoMterC07",
        "outputId": "a86a436b-b6e5-486e-df0e-409341d405bc"
      },
      "execution_count": null,
      "outputs": [
        {
          "output_type": "display_data",
          "data": {
            "text/plain": [
              "<Figure size 640x480 with 1 Axes>"
            ],
            "image/png": "[encoded data removed]"
          },
          "metadata": {}
        }
      ]
    },
    {
      "cell_type": "markdown",
      "source": [
        "## Cross-Validation for Logistic Regression"
      ],
      "metadata": {
        "id": "zgO8pt6Zim5x"
      }
    },
    {
      "cell_type": "code",
      "source": [
        "from sklearn.model_selection import cross_val_score\n",
        "\n",
        "# Logistic Regression with OneVsRestClassifier\n",
        "ovr_logreg = OneVsRestClassifier(LogisticRegression(max_iter=2000))\n",
        "\n",
        "# Perform cross-validation\n",
        "logreg_scores = cross_val_score(ovr_logreg, X_train, y_train, cv=5, scoring='neg_log_loss')\n",
        "print(\"Logistic Regression CV Log Loss:\", -logreg_scores.mean())"
      ],
      "metadata": {
        "colab": {
          "base_uri": "https://localhost:8080/"
        },
        "id": "XjPCJL5fiog5",
        "outputId": "7c4c3890-aa90-4b93-ed36-e42801418dd4"
      },
      "execution_count": null,
      "outputs": [
        {
          "output_type": "stream",
          "name": "stdout",
          "text": [
            "Logistic Regression CV Log Loss: 0.5297016402106406\n"
          ]
        }
      ]
    },
    {
      "cell_type": "markdown",
      "source": [
        "Logistic Regression Log Loss is 0.529, and cross-validation results were similar."
      ],
      "metadata": {
        "id": "-Sa8Rv5mklmW"
      }
    },
    {
      "cell_type": "markdown",
      "source": [
        "# 2. Random Forest Model"
      ],
      "metadata": {
        "id": "fgonh43rfPeB"
      }
    },
    {
      "cell_type": "code",
      "source": [
        "import numpy as np\n",
        "# Random Forest Model\n",
        "rf = RandomForestClassifier(n_estimators=200, max_depth = 10)\n",
        "rf.fit(X_train, y_train)\n",
        "# Predict on validation set with Random Forest\n",
        "rf_preds = rf.predict_proba(X_val)\n",
        "\n",
        "# Reshape predictions to a 2D array\n",
        "# rf_preds is a list of arrays, where each array is of shape (n_samples, 2)\n",
        "# We need to extract the probabilities for the positive class (index 1)\n",
        "rf_preds_reshaped = np.array([pred[:, 1] for pred in rf_preds]).T\n",
        "\n",
        "# Calculate log loss\n",
        "print(\"Random Forest Log Loss:\", log_loss(y_val, rf_preds_reshaped))"
      ],
      "metadata": {
        "colab": {
          "base_uri": "https://localhost:8080/"
        },
        "id": "ahqPkbcuZZzJ",
        "outputId": "d519d4ab-54d8-4188-d65f-8e7a049f0660"
      },
      "execution_count": null,
      "outputs": [
        {
          "output_type": "stream",
          "name": "stdout",
          "text": [
            "Random Forest Log Loss: 0.4670087804359967\n"
          ]
        }
      ]
    },
    {
      "cell_type": "code",
      "source": [
        "import numpy as np\n",
        "\n",
        "# Assuming rf_probs is a list of 3 arrays, each with shape (1581, 2)\n",
        "# We need to extract the second column for each class since it contains the probabilities for the positive class\n",
        "rf_probs_reshaped = np.array([cls_probs[:, 1] for cls_probs in rf_probs]).T\n",
        "\n",
        "# Check the new shape\n",
        "print(rf_probs_reshaped.shape)  # Should be (1581, 3)\n",
        "\n",
        "# Now we can calculate the ROC curves\n",
        "fpr = dict()\n",
        "tpr = dict()\n",
        "roc_auc = dict()\n",
        "\n",
        "for i in range(n_classes):\n",
        "    fpr[i], tpr[i], _ = roc_curve(y_val.iloc[:, i], rf_probs_reshaped[:, i])\n",
        "    roc_auc[i] = auc(fpr[i], tpr[i])\n",
        "\n",
        "# Plot ROC curves\n",
        "plt.figure(figsize=(7, 5))\n",
        "colors = ['blue', 'green', 'red']\n",
        "for i in range(n_classes):\n",
        "    plt.plot(fpr[i], tpr[i], color=colors[i], lw=2,\n",
        "             label='ROC curve of class {0} (area = {1:0.2f})'.format(i, roc_auc[i]))\n",
        "\n",
        "plt.plot([0, 1], [0, 1], 'k--', lw=2)\n",
        "plt.xlim([0.0, 1.0])\n",
        "plt.ylim([0.0, 1.05])\n",
        "plt.xlabel('False Positive Rate')\n",
        "plt.ylabel('True Positive Rate')\n",
        "plt.title('Receiver Operating Characteristic for Random Forest')\n",
        "plt.legend(loc=\"lower right\")\n",
        "plt.show()\n"
      ],
      "metadata": {
        "colab": {
          "base_uri": "https://localhost:8080/",
          "height": 504
        },
        "id": "3gvt8BLiuQn8",
        "outputId": "461f0f6a-9a44-4068-e63c-b3948d5d1de3"
      },
      "execution_count": null,
      "outputs": [
        {
          "output_type": "stream",
          "name": "stdout",
          "text": [
            "(1581, 3)\n"
          ]
        },
        {
          "output_type": "display_data",
          "data": {
            "text/plain": [
              "<Figure size 700x500 with 1 Axes>"
            ],
            "image/png": "[encoded data removed]"
          },
          "metadata": {}
        }
      ]
    },
    {
      "cell_type": "markdown",
      "source": [
        "## Cross-Validation for Random Forest"
      ],
      "metadata": {
        "id": "BwLB4UJciv1G"
      }
    },
    {
      "cell_type": "code",
      "source": [
        "from sklearn.model_selection import cross_val_score\n",
        "from sklearn.metrics import make_scorer\n",
        "import numpy as np\n",
        "\n",
        "# Custom scorer function\n",
        "def multiclass_log_loss(y_true, y_pred):\n",
        "    # Reshape predictions\n",
        "    y_pred_reshaped = np.array([prob[:, 1] for prob in y_pred]).T\n",
        "    return log_loss(y_true, y_pred_reshaped)\n",
        "\n",
        "# Custom log loss scorer for multi-class\n",
        "log_loss_scorer = make_scorer(multiclass_log_loss, greater_is_better=False, needs_proba=True)\n",
        "\n",
        "# Random Forest Model\n",
        "rf = RandomForestClassifier(n_estimators=200, max_depth=10)\n",
        "\n",
        "# Perform cross-validation using the custom scorer\n",
        "rf_scores = cross_val_score(rf, X_train, y_train, cv=5, scoring=log_loss_scorer)\n",
        "print(\"Random Forest CV Log Loss:\", -rf_scores.mean())\n"
      ],
      "metadata": {
        "colab": {
          "base_uri": "https://localhost:8080/"
        },
        "id": "JAhQVR30jdQJ",
        "outputId": "d25f561c-3655-483f-909b-b68425ee073a"
      },
      "execution_count": null,
      "outputs": [
        {
          "output_type": "stream",
          "name": "stdout",
          "text": [
            "Random Forest CV Log Loss: 0.4694050284059421\n"
          ]
        }
      ]
    },
    {
      "cell_type": "markdown",
      "source": [
        "I  adjusted the model with n_estimators=200 and max_depth=10. The resulting Log Loss is 0.469, and the performance in cross-validation is similarly effective."
      ],
      "metadata": {
        "id": "HC32iEuMg9KG"
      }
    },
    {
      "cell_type": "markdown",
      "source": [
        "# 3. Neural Network"
      ],
      "metadata": {
        "id": "lPTJwnNgfXkC"
      }
    },
    {
      "cell_type": "code",
      "source": [
        "# Neural Network Model\n",
        "model = Sequential([\n",
        "    Dense(64, activation='relu', input_shape=(X_train.shape[1],)),\n",
        "    Dense(64, activation='relu'),\n",
        "    Dense(y_train.shape[1], activation='softmax')\n",
        "])\n",
        "model.compile(optimizer='adam', loss='categorical_crossentropy')\n",
        "model.fit(X_train, y_train, epochs=10, batch_size=40, validation_data=(X_val, y_val))\n",
        "\n",
        "# Predict on the validation set using the neural network\n",
        "nn_preds = model.predict(X_val)\n",
        "\n",
        "# Calculate log loss\n",
        "nn_log_loss = log_loss(y_val, nn_preds)\n",
        "print(\"Neural Network Log Loss:\", nn_log_loss)\n"
      ],
      "metadata": {
        "colab": {
          "base_uri": "https://localhost:8080/"
        },
        "id": "D5TYTDVsZa_e",
        "outputId": "9217e5ea-cec3-4f48-954d-a23f9034982d"
      },
      "execution_count": null,
      "outputs": [
        {
          "output_type": "stream",
          "name": "stdout",
          "text": [
            "Epoch 1/10\n",
            "159/159 [==============================] - 1s 4ms/step - loss: 0.5996 - val_loss: 0.5390\n",
            "Epoch 2/10\n",
            "159/159 [==============================] - 0s 3ms/step - loss: 0.5130 - val_loss: 0.5134\n",
            "Epoch 3/10\n",
            "159/159 [==============================] - 0s 3ms/step - loss: 0.4978 - val_loss: 0.5154\n",
            "Epoch 4/10\n",
            "159/159 [==============================] - 0s 3ms/step - loss: 0.4901 - val_loss: 0.5054\n",
            "Epoch 5/10\n",
            "159/159 [==============================] - 1s 3ms/step - loss: 0.4799 - val_loss: 0.4982\n",
            "Epoch 6/10\n",
            "159/159 [==============================] - 0s 2ms/step - loss: 0.4696 - val_loss: 0.5152\n",
            "Epoch 7/10\n",
            "159/159 [==============================] - 0s 2ms/step - loss: 0.4645 - val_loss: 0.4920\n",
            "Epoch 8/10\n",
            "159/159 [==============================] - 1s 4ms/step - loss: 0.4570 - val_loss: 0.5057\n",
            "Epoch 9/10\n",
            "159/159 [==============================] - 1s 4ms/step - loss: 0.4511 - val_loss: 0.4928\n",
            "Epoch 10/10\n",
            "159/159 [==============================] - 1s 4ms/step - loss: 0.4467 - val_loss: 0.4992\n",
            "50/50 [==============================] - 0s 2ms/step\n",
            "Neural Network Log Loss: 0.4992135887678479\n"
          ]
        }
      ]
    },
    {
      "cell_type": "code",
      "source": [
        "from sklearn.metrics import roc_curve, auc\n",
        "import matplotlib.pyplot as plt\n",
        "\n",
        "# Assuming model is your fitted neural network and X_val is your validation dataset\n",
        "nn_probs = model.predict(X_val)\n",
        "\n",
        "# Compute ROC curve and ROC area for each class\n",
        "fpr = dict()\n",
        "tpr = dict()\n",
        "roc_auc = dict()\n",
        "n_classes = y_val.shape[1]\n",
        "\n",
        "for i in range(n_classes):\n",
        "    fpr[i], tpr[i], _ = roc_curve(y_val.iloc[:, i], nn_probs[:, i])\n",
        "    roc_auc[i] = auc(fpr[i], tpr[i])\n",
        "\n",
        "# Plot all ROC curves\n",
        "plt.figure(figsize=(7, 5))\n",
        "colors = ['blue', 'green', 'red']\n",
        "for i in range(n_classes):\n",
        "    plt.plot(fpr[i], tpr[i], color=colors[i], lw=2,\n",
        "             label='ROC curve of class {0} (area = {1:0.2f})'.format(i, roc_auc[i]))\n",
        "\n",
        "plt.plot([0, 1], [0, 1], 'k--', lw=2)\n",
        "plt.xlim([0.0, 1.0])\n",
        "plt.ylim([0.0, 1.05])\n",
        "plt.xlabel('False Positive Rate')\n",
        "plt.ylabel('True Positive Rate')\n",
        "plt.title('Receiver Operating Characteristic for Neural Network')\n",
        "plt.legend(loc=\"lower right\")\n",
        "plt.show()\n"
      ],
      "metadata": {
        "colab": {
          "base_uri": "https://localhost:8080/",
          "height": 504
        },
        "id": "xxvfcrrDu5_Y",
        "outputId": "0c72a5ca-ca44-43cb-87ae-7b26b70fa2c9"
      },
      "execution_count": null,
      "outputs": [
        {
          "output_type": "stream",
          "name": "stdout",
          "text": [
            "50/50 [==============================] - 0s 2ms/step\n"
          ]
        },
        {
          "output_type": "display_data",
          "data": {
            "text/plain": [
              "<Figure size 700x500 with 1 Axes>"
            ],
            "image/png": "[encoded data removed]"
          },
          "metadata": {}
        }
      ]
    },
    {
      "cell_type": "markdown",
      "source": [
        "## Cross-Validation for Neural Network:\n",
        "For the Neural Network, we have to manually split the data into folds and train a new model on each fold. Here we use 5-fold cross-validation:"
      ],
      "metadata": {
        "id": "GBHrxlUvi-G7"
      }
    },
    {
      "cell_type": "code",
      "source": [
        "from sklearn.model_selection import KFold\n",
        "import numpy as np\n",
        "from tensorflow.keras.models import Sequential\n",
        "from tensorflow.keras.layers import Dense\n",
        "from sklearn.metrics import log_loss\n",
        "\n",
        "kf = KFold(n_splits=5)\n",
        "nn_log_losses = []\n",
        "\n",
        "for train_index, val_index in kf.split(X_train):\n",
        "    # Split data\n",
        "    X_train_kf, X_val_kf = X_train[train_index], X_train[val_index]\n",
        "    y_train_kf, y_val_kf = y_train.iloc[train_index], y_train.iloc[val_index]\n",
        "\n",
        "    # Define the model\n",
        "    model = Sequential([\n",
        "        Dense(64, activation='relu', input_shape=(X_train.shape[1],)),\n",
        "        Dense(64, activation='relu'),\n",
        "        Dense(y_train.shape[1], activation='softmax')\n",
        "    ])\n",
        "    model.compile(optimizer='adam', loss='categorical_crossentropy')\n",
        "\n",
        "    # Train the model\n",
        "    model.fit(X_train_kf, y_train_kf, epochs=10, batch_size=40, verbose=0)\n",
        "\n",
        "    # Predict on the validation set\n",
        "    nn_preds_kf = model.predict(X_val_kf)\n",
        "\n",
        "    # Calculate log loss\n",
        "    nn_log_loss_kf = log_loss(y_val_kf, nn_preds_kf)\n",
        "    nn_log_losses.append(nn_log_loss_kf)\n",
        "\n",
        "# Average log loss across all folds\n",
        "print(\"Neural Network CV Log Loss:\", np.mean(nn_log_losses))\n"
      ],
      "metadata": {
        "colab": {
          "base_uri": "https://localhost:8080/"
        },
        "id": "O6o4IMjHj48i",
        "outputId": "f034fa11-4827-4bc7-f908-572b12de4820"
      },
      "execution_count": null,
      "outputs": [
        {
          "output_type": "stream",
          "name": "stdout",
          "text": [
            "40/40 [==============================] - 0s 2ms/step\n",
            "40/40 [==============================] - 0s 1ms/step\n",
            "40/40 [==============================] - 0s 2ms/step\n",
            "40/40 [==============================] - 0s 2ms/step\n",
            "40/40 [==============================] - 0s 2ms/step\n",
            "Neural Network CV Log Loss: 0.5084053213277253\n"
          ]
        }
      ]
    },
    {
      "cell_type": "markdown",
      "source": [
        "The Neural Network's Log Loss is 0.50, and the cross-validation results showed a similar performance."
      ],
      "metadata": {
        "id": "7SXyWYGxkZjz"
      }
    },
    {
      "cell_type": "markdown",
      "source": [
        "# Prediction and Export"
      ],
      "metadata": {
        "id": "3t2euSwBlVS-"
      }
    },
    {
      "cell_type": "markdown",
      "source": [
        "After evaluating three models, it's evident that the Random Forest model performed the best. Consequently, we will use the Random Forest model to make predictions on the test set."
      ],
      "metadata": {
        "id": "yYREEgrLfaak"
      }
    },
    {
      "cell_type": "code",
      "source": [
        "# Choose the Random Forest model based on log loss and make predictions on the test set\n",
        "# Fitting the Random Forest model on the entire training data\n",
        "rf = RandomForestClassifier(n_estimators=200, max_depth=10)\n",
        "rf.fit(X_train, y_train)"
      ],
      "metadata": {
        "colab": {
          "base_uri": "https://localhost:8080/",
          "height": 74
        },
        "id": "S9MZ42CPmua-",
        "outputId": "721c15dd-1910-45f9-b082-85b812a0b954"
      },
      "execution_count": null,
      "outputs": [
        {
          "output_type": "execute_result",
          "data": {
            "text/plain": [
              "RandomForestClassifier(max_depth=10, n_estimators=200)"
            ],
            "text/html": [
              "<style>#sk-container-id-4 {color: black;background-color: white;}#sk-container-id-4 pre{padding: 0;}#sk-container-id-4 div.sk-toggleable {background-color: white;}#sk-container-id-4 label.sk-toggleable__label {cursor: pointer;display: block;width: 100%;margin-bottom: 0;padding: 0.3em;box-sizing: border-box;text-align: center;}#sk-container-id-4 label.sk-toggleable__label-arrow:before {content: \"▸\";float: left;margin-right: 0.25em;color: #696969;}#sk-container-id-4 label.sk-toggleable__label-arrow:hover:before {color: black;}#sk-container-id-4 div.sk-estimator:hover label.sk-toggleable__label-arrow:before {color: black;}#sk-container-id-4 div.sk-toggleable__content {max-height: 0;max-width: 0;overflow: hidden;text-align: left;background-color: #f0f8ff;}#sk-container-id-4 div.sk-toggleable__content pre {margin: 0.2em;color: black;border-radius: 0.25em;background-color: #f0f8ff;}#sk-container-id-4 input.sk-toggleable__control:checked~div.sk-toggleable__content {max-height: 200px;max-width: 100%;overflow: auto;}#sk-container-id-4 input.sk-toggleable__control:checked~label.sk-toggleable__label-arrow:before {content: \"▾\";}#sk-container-id-4 div.sk-estimator input.sk-toggleable__control:checked~label.sk-toggleable__label {background-color: #d4ebff;}#sk-container-id-4 div.sk-label input.sk-toggleable__control:checked~label.sk-toggleable__label {background-color: #d4ebff;}#sk-container-id-4 input.sk-hidden--visually {border: 0;clip: rect(1px 1px 1px 1px);clip: rect(1px, 1px, 1px, 1px);height: 1px;margin: -1px;overflow: hidden;padding: 0;position: absolute;width: 1px;}#sk-container-id-4 div.sk-estimator {font-family: monospace;background-color: #f0f8ff;border: 1px dotted black;border-radius: 0.25em;box-sizing: border-box;margin-bottom: 0.5em;}#sk-container-id-4 div.sk-estimator:hover {background-color: #d4ebff;}#sk-container-id-4 div.sk-parallel-item::after {content: \"\";width: 100%;border-bottom: 1px solid gray;flex-grow: 1;}#sk-container-id-4 div.sk-label:hover label.sk-toggleable__label {background-color: #d4ebff;}#sk-container-id-4 div.sk-serial::before {content: \"\";position: absolute;border-left: 1px solid gray;box-sizing: border-box;top: 0;bottom: 0;left: 50%;z-index: 0;}#sk-container-id-4 div.sk-serial {display: flex;flex-direction: column;align-items: center;background-color: white;padding-right: 0.2em;padding-left: 0.2em;position: relative;}#sk-container-id-4 div.sk-item {position: relative;z-index: 1;}#sk-container-id-4 div.sk-parallel {display: flex;align-items: stretch;justify-content: center;background-color: white;position: relative;}#sk-container-id-4 div.sk-item::before, #sk-container-id-4 div.sk-parallel-item::before {content: \"\";position: absolute;border-left: 1px solid gray;box-sizing: border-box;top: 0;bottom: 0;left: 50%;z-index: -1;}#sk-container-id-4 div.sk-parallel-item {display: flex;flex-direction: column;z-index: 1;position: relative;background-color: white;}#sk-container-id-4 div.sk-parallel-item:first-child::after {align-self: flex-end;width: 50%;}#sk-container-id-4 div.sk-parallel-item:last-child::after {align-self: flex-start;width: 50%;}#sk-container-id-4 div.sk-parallel-item:only-child::after {width: 0;}#sk-container-id-4 div.sk-dashed-wrapped {border: 1px dashed gray;margin: 0 0.4em 0.5em 0.4em;box-sizing: border-box;padding-bottom: 0.4em;background-color: white;}#sk-container-id-4 div.sk-label label {font-family: monospace;font-weight: bold;display: inline-block;line-height: 1.2em;}#sk-container-id-4 div.sk-label-container {text-align: center;}#sk-container-id-4 div.sk-container {/* jupyter's `normalize.less` sets `[hidden] { display: none; }` but bootstrap.min.css set `[hidden] { display: none !important; }` so we also need the `!important` here to be able to override the default hidden behavior on the sphinx rendered scikit-learn.org. See: https://github.com/scikit-learn/scikit-learn/issues/21755 */display: inline-block !important;position: relative;}#sk-container-id-4 div.sk-text-repr-fallback {display: none;}</style><div id=\"sk-container-id-4\" class=\"sk-top-container\"><div class=\"sk-text-repr-fallback\"><pre>RandomForestClassifier(max_depth=10, n_estimators=200)</pre><b>In a Jupyter environment, please rerun this cell to show the HTML representation or trust the notebook. <br />On GitHub, the HTML representation is unable to render, please try loading this page with nbviewer.org.</b></div><div class=\"sk-container\" hidden><div class=\"sk-item\"><div class=\"sk-estimator sk-toggleable\"><input class=\"sk-toggleable__control sk-hidden--visually\" id=\"sk-estimator-id-4\" type=\"checkbox\" checked><label for=\"sk-estimator-id-4\" class=\"sk-toggleable__label sk-toggleable__label-arrow\">RandomForestClassifier</label><div class=\"sk-toggleable__content\"><pre>RandomForestClassifier(max_depth=10, n_estimators=200)</pre></div></div></div></div></div>"
            ]
          },
          "metadata": {},
          "execution_count": 116
        }
      ]
    },
    {
      "cell_type": "code",
      "source": [
        "# Preprocess the test data\n",
        "X_test = preprocess_data(test_data, train=False, encoder=encoder, scaler=scaler)\n",
        "\n",
        "# Making predictions on the test set\n",
        "rf_test_preds = rf.predict_proba(X_test)"
      ],
      "metadata": {
        "id": "1FmVWHYPZceQ"
      },
      "execution_count": null,
      "outputs": []
    },
    {
      "cell_type": "code",
      "source": [
        "# Format predictions for submission\n",
        "test_predictions = [prob[:, 1] for prob in rf_test_preds]\n",
        "test_predictions_df = pd.DataFrame(test_predictions).T\n",
        "test_predictions_df.columns = ['Status_C', 'Status_CL', 'Status_D']\n",
        "submission = pd.concat([test_data['id'], test_predictions_df], axis=1)\n",
        "\n",
        "# Save the submission file\n",
        "submission.to_csv('submission.csv', index=False)"
      ],
      "metadata": {
        "id": "ze-q6UuQZd1O"
      },
      "execution_count": null,
      "outputs": []
    }
  ]
}